{
 "cells": [
  {
   "cell_type": "markdown",
   "metadata": {
    "colab_type": "text",
    "id": "cILFxh4icLG9"
   },
   "source": [
    "#Python tutorial #1\n",
    "#Hello World!\n"
   ]
  },
  {
   "cell_type": "code",
   "execution_count": null,
   "metadata": {
    "colab": {
     "base_uri": "https://localhost:8080/",
     "height": 52
    },
    "colab_type": "code",
    "executionInfo": {
     "elapsed": 914,
     "status": "ok",
     "timestamp": 1599380021650,
     "user": {
      "displayName": "최재홍",
      "photoUrl": "",
      "userId": "11531273785347252451"
     },
     "user_tz": -540
    },
    "id": "MoB5q35sT0e7",
    "outputId": "10661716-7cc8-43c6-dffd-8549e3688ade"
   },
   "outputs": [
    {
     "name": "stdout",
     "output_type": "stream",
     "text": [
      "Hello World\n",
      "Hello World 2 + 3 = 5\n"
     ]
    }
   ],
   "source": [
    "print('Hello World')\n",
    "print('Hello World {} + {} = {}'.format(2, 3, 2+3))"
   ]
  },
  {
   "cell_type": "markdown",
   "metadata": {
    "colab_type": "text",
    "id": "IkgnPOFacZXl"
   },
   "source": [
    "#Basic data types"
   ]
  },
  {
   "cell_type": "code",
   "execution_count": null,
   "metadata": {
    "colab": {
     "base_uri": "https://localhost:8080/",
     "height": 52
    },
    "colab_type": "code",
    "executionInfo": {
     "elapsed": 1325,
     "status": "ok",
     "timestamp": 1599380022082,
     "user": {
      "displayName": "최재홍",
      "photoUrl": "",
      "userId": "11531273785347252451"
     },
     "user_tz": -540
    },
    "id": "ZSsQoj7ucX5J",
    "outputId": "9fc88981-4460-4234-9b1c-ad31c3f62b72"
   },
   "outputs": [
    {
     "name": "stdout",
     "output_type": "stream",
     "text": [
      "<class 'int'>\n",
      "3\n"
     ]
    }
   ],
   "source": [
    "x = 3\n",
    "print(type(x)) \n",
    "print(x) "
   ]
  },
  {
   "cell_type": "code",
   "execution_count": null,
   "metadata": {
    "colab": {
     "base_uri": "https://localhost:8080/",
     "height": 87
    },
    "colab_type": "code",
    "executionInfo": {
     "elapsed": 1313,
     "status": "ok",
     "timestamp": 1599380022085,
     "user": {
      "displayName": "최재홍",
      "photoUrl": "",
      "userId": "11531273785347252451"
     },
     "user_tz": -540
    },
    "id": "mg8b2T0IcdQ7",
    "outputId": "7540289d-75a7-4bdd-94a4-db353b01e7de"
   },
   "outputs": [
    {
     "name": "stdout",
     "output_type": "stream",
     "text": [
      "4\n",
      "2\n",
      "6\n",
      "9\n"
     ]
    }
   ],
   "source": [
    "print(x + 1) \n",
    "print(x - 1) \n",
    "print(x * 2) \n",
    "print(x ** 2) "
   ]
  },
  {
   "cell_type": "markdown",
   "metadata": {
    "colab_type": "text",
    "id": "VzNe2KpocnW1"
   },
   "source": [
    "#For statement\n",
    "range: 영억을 설정"
   ]
  },
  {
   "cell_type": "code",
   "execution_count": null,
   "metadata": {
    "colab": {
     "base_uri": "https://localhost:8080/",
     "height": 34
    },
    "colab_type": "code",
    "executionInfo": {
     "elapsed": 1301,
     "status": "ok",
     "timestamp": 1599380022086,
     "user": {
      "displayName": "최재홍",
      "photoUrl": "",
      "userId": "11531273785347252451"
     },
     "user_tz": -540
    },
    "id": "sV7XZSVkcf3K",
    "outputId": "ab62ff6c-c5b1-4093-9f59-f2de17862b61"
   },
   "outputs": [
    {
     "name": "stdout",
     "output_type": "stream",
     "text": [
      "range(0, 5)\n"
     ]
    }
   ],
   "source": [
    "A = range(5)\n",
    "print(A)"
   ]
  },
  {
   "cell_type": "markdown",
   "metadata": {
    "colab_type": "text",
    "id": "I0o2fVJPcwi4"
   },
   "source": [
    "A의 세번째 요소를 출력"
   ]
  },
  {
   "cell_type": "code",
   "execution_count": null,
   "metadata": {
    "colab": {
     "base_uri": "https://localhost:8080/",
     "height": 34
    },
    "colab_type": "code",
    "executionInfo": {
     "elapsed": 1293,
     "status": "ok",
     "timestamp": 1599380022087,
     "user": {
      "displayName": "최재홍",
      "photoUrl": "",
      "userId": "11531273785347252451"
     },
     "user_tz": -540
    },
    "id": "BLwKnakecu0O",
    "outputId": "b40a760f-a43f-4762-ea0a-ffd8349d106d"
   },
   "outputs": [
    {
     "name": "stdout",
     "output_type": "stream",
     "text": [
      "2\n"
     ]
    }
   ],
   "source": [
    "print(A[2])"
   ]
  },
  {
   "cell_type": "code",
   "execution_count": null,
   "metadata": {
    "colab": {
     "base_uri": "https://localhost:8080/",
     "height": 105
    },
    "colab_type": "code",
    "executionInfo": {
     "elapsed": 1283,
     "status": "ok",
     "timestamp": 1599380022089,
     "user": {
      "displayName": "최재홍",
      "photoUrl": "",
      "userId": "11531273785347252451"
     },
     "user_tz": -540
    },
    "id": "AshiiK45czWK",
    "outputId": "cf7cfd2e-377a-4989-d5a8-31ac8b5f2dc6"
   },
   "outputs": [
    {
     "name": "stdout",
     "output_type": "stream",
     "text": [
      "0 ----- 0\n",
      "1 ----- 1\n",
      "2 ----- 2\n",
      "3 ----- 3\n",
      "4 ----- 4\n"
     ]
    }
   ],
   "source": [
    "for i in range(5):\n",
    "  print('{} ----- {}'.format(i, A[i]))"
   ]
  },
  {
   "cell_type": "markdown",
   "metadata": {
    "colab_type": "text",
    "id": "84y0WgYyc5cW"
   },
   "source": [
    "**Excersise**\n",
    "구구단을 작성하시오"
   ]
  },
  {
   "cell_type": "code",
   "execution_count": null,
   "metadata": {
    "colab": {
     "base_uri": "https://localhost:8080/",
     "height": 175
    },
    "colab_type": "code",
    "executionInfo": {
     "elapsed": 1275,
     "status": "ok",
     "timestamp": 1599380022091,
     "user": {
      "displayName": "최재홍",
      "photoUrl": "",
      "userId": "11531273785347252451"
     },
     "user_tz": -540
    },
    "id": "Cbmz33amc33o",
    "outputId": "df73d1d9-5852-4452-f5d3-4c7444711dbd"
   },
   "outputs": [
    {
     "name": "stdout",
     "output_type": "stream",
     "text": [
      "2 x 1 = 2\n",
      "2 x 2 = 4\n",
      "2 x 3 = 6\n",
      "2 x 4 = 8\n",
      "2 x 5 = 10\n",
      "2 x 6 = 12\n",
      "2 x 7 = 14\n",
      "2 x 8 = 16\n",
      "2 x 9 = 18\n"
     ]
    }
   ],
   "source": [
    "for i in range(9):\n",
    " print('{} x {} = {}'.format(2, i+1, 2*(i+1)))"
   ]
  },
  {
   "cell_type": "markdown",
   "metadata": {
    "colab_type": "text",
    "id": "bHSrvluvdIfU"
   },
   "source": [
    "#Operators"
   ]
  },
  {
   "cell_type": "code",
   "execution_count": null,
   "metadata": {
    "colab": {
     "base_uri": "https://localhost:8080/",
     "height": 70
    },
    "colab_type": "code",
    "executionInfo": {
     "elapsed": 1265,
     "status": "ok",
     "timestamp": 1599380022092,
     "user": {
      "displayName": "최재홍",
      "photoUrl": "",
      "userId": "11531273785347252451"
     },
     "user_tz": -540
    },
    "id": "4rBFA7J4dA2O",
    "outputId": "faa8f58d-28bf-401a-caca-3839a10b385a"
   },
   "outputs": [
    {
     "name": "stdout",
     "output_type": "stream",
     "text": [
      "(1, 2, 3, 1, 2, 3, 1, 2, 3)\n",
      "[1, 2, 3, 1, 2, 3, 1, 2, 3]\n",
      "Hello Hello Hello \n"
     ]
    }
   ],
   "source": [
    "print((1, 2, 3) * 3)\n",
    "print([1, 2, 3] * 3)\n",
    "print(\"Hello \"*3)"
   ]
  },
  {
   "cell_type": "markdown",
   "metadata": {
    "colab_type": "text",
    "id": "SUY_61v-dQJ9"
   },
   "source": [
    "#Containers\n",
    "**Tuple**\n",
    "\n",
    "A simple immutable (변경할 수 없는, 불변의) ordered sequence of items"
   ]
  },
  {
   "cell_type": "code",
   "execution_count": null,
   "metadata": {
    "colab": {
     "base_uri": "https://localhost:8080/",
     "height": 52
    },
    "colab_type": "code",
    "executionInfo": {
     "elapsed": 1255,
     "status": "ok",
     "timestamp": 1599380022092,
     "user": {
      "displayName": "최재홍",
      "photoUrl": "",
      "userId": "11531273785347252451"
     },
     "user_tz": -540
    },
    "id": "UL2LlU2ydO_g",
    "outputId": "135d2db0-0b35-412f-bc33-635808e642a7"
   },
   "outputs": [
    {
     "name": "stdout",
     "output_type": "stream",
     "text": [
      "January\n",
      "index of 7 ==>  August\n"
     ]
    }
   ],
   "source": [
    "months = ('January','February','March','April','May','June',\\\n",
    "'July','August','September','October','November','December')\n",
    "print(months[0])\n",
    "print(\"index of 7 ==> \" , months[7])"
   ]
  },
  {
   "cell_type": "markdown",
   "metadata": {
    "colab_type": "text",
    "id": "PhjsCj6zdbbn"
   },
   "source": [
    "하나씩 출력하기"
   ]
  },
  {
   "cell_type": "code",
   "execution_count": null,
   "metadata": {
    "colab": {
     "base_uri": "https://localhost:8080/",
     "height": 228
    },
    "colab_type": "code",
    "executionInfo": {
     "elapsed": 1246,
     "status": "ok",
     "timestamp": 1599380022093,
     "user": {
      "displayName": "최재홍",
      "photoUrl": "",
      "userId": "11531273785347252451"
     },
     "user_tz": -540
    },
    "id": "ctsczoxydZtM",
    "outputId": "2e88f3d8-94dc-420f-e31f-8e8a2d9c904f"
   },
   "outputs": [
    {
     "name": "stdout",
     "output_type": "stream",
     "text": [
      "January\n",
      "February\n",
      "March\n",
      "April\n",
      "May\n",
      "June\n",
      "July\n",
      "August\n",
      "September\n",
      "October\n",
      "November\n",
      "December\n"
     ]
    }
   ],
   "source": [
    "for item in months:\n",
    " print (item)"
   ]
  },
  {
   "cell_type": "code",
   "execution_count": null,
   "metadata": {
    "colab": {
     "base_uri": "https://localhost:8080/",
     "height": 140
    },
    "colab_type": "code",
    "executionInfo": {
     "elapsed": 1235,
     "status": "ok",
     "timestamp": 1599380022093,
     "user": {
      "displayName": "최재홍",
      "photoUrl": "",
      "userId": "11531273785347252451"
     },
     "user_tz": -540
    },
    "id": "OTHlKi1ydeTr",
    "outputId": "5291dc04-9366-406d-cbbf-d3c36237aac2"
   },
   "outputs": [
    {
     "name": "stdout",
     "output_type": "stream",
     "text": [
      "('john', 32, (2, 3, 4, 5), 'hello')\n",
      "(2, 3, 4, 5)\n",
      "3\n",
      "('john', 32)\n",
      "((2, 3, 4, 5), 'hello')\n",
      "hello\n",
      "(2, 3, 4, 5)\n"
     ]
    }
   ],
   "source": [
    "t = ('john', 32, (2,3,4,5), 'hello')\n",
    "print(t)\n",
    "print(t[2])\n",
    "print(t[2][1])\n",
    "print(t[:2]) \n",
    "print(t[2:]) \n",
    "print(t[-1])\n",
    "print(t[-2])"
   ]
  },
  {
   "cell_type": "markdown",
   "metadata": {
    "colab_type": "text",
    "id": "r4FtZ2R_dj5S"
   },
   "source": [
    "Mutable (바꿀수 있는, 변경가능한) ordered sequence of items of mixed types"
   ]
  },
  {
   "cell_type": "code",
   "execution_count": null,
   "metadata": {
    "colab": {
     "base_uri": "https://localhost:8080/",
     "height": 34
    },
    "colab_type": "code",
    "executionInfo": {
     "elapsed": 1225,
     "status": "ok",
     "timestamp": 1599380022094,
     "user": {
      "displayName": "최재홍",
      "photoUrl": "",
      "userId": "11531273785347252451"
     },
     "user_tz": -540
    },
    "id": "Jaar8Z8AdgIl",
    "outputId": "4dcc07c4-dd25-4c5c-a928-17d7577e9bc0"
   },
   "outputs": [
    {
     "name": "stdout",
     "output_type": "stream",
     "text": [
      "['hallym', 1, 3.141572, 'hello']\n"
     ]
    }
   ],
   "source": [
    "li = ['hallym', 1, 3.141572, 'hello']\n",
    "print(li)"
   ]
  },
  {
   "cell_type": "code",
   "execution_count": null,
   "metadata": {
    "colab": {
     "base_uri": "https://localhost:8080/",
     "height": 34
    },
    "colab_type": "code",
    "executionInfo": {
     "elapsed": 1215,
     "status": "ok",
     "timestamp": 1599380022095,
     "user": {
      "displayName": "최재홍",
      "photoUrl": "",
      "userId": "11531273785347252451"
     },
     "user_tz": -540
    },
    "id": "lFB2R9Wpdmhp",
    "outputId": "4da4a2eb-99db-4c2f-8b76-90f38947c93c"
   },
   "outputs": [
    {
     "name": "stdout",
     "output_type": "stream",
     "text": [
      "['hallym', 45, 3.141572, 'hello']\n"
     ]
    }
   ],
   "source": [
    "li[1] = 45\n",
    "print(li)"
   ]
  },
  {
   "cell_type": "code",
   "execution_count": null,
   "metadata": {
    "colab": {
     "base_uri": "https://localhost:8080/",
     "height": 34
    },
    "colab_type": "code",
    "executionInfo": {
     "elapsed": 1203,
     "status": "ok",
     "timestamp": 1599380022096,
     "user": {
      "displayName": "최재홍",
      "photoUrl": "",
      "userId": "11531273785347252451"
     },
     "user_tz": -540
    },
    "id": "BKCvjc3cdn-B",
    "outputId": "98341fd5-409e-4d90-dd4a-4c568cad5c39"
   },
   "outputs": [
    {
     "name": "stdout",
     "output_type": "stream",
     "text": [
      "['hallym', 45, 3.141572, 'hello', 'September']\n"
     ]
    }
   ],
   "source": [
    "li.append('September')\n",
    "print(li)"
   ]
  },
  {
   "cell_type": "markdown",
   "metadata": {
    "colab_type": "text",
    "id": "1W5t58l-dtYL"
   },
   "source": [
    "리스트에 새로운 것이 뒤에 붙은 것 (append)을 확인 가능\n",
    "\n",
    "  비어있는 리스트 만들기"
   ]
  },
  {
   "cell_type": "code",
   "execution_count": null,
   "metadata": {
    "colab": {},
    "colab_type": "code",
    "id": "1ZlbN5j1dsLQ"
   },
   "outputs": [],
   "source": [
    "v = []"
   ]
  },
  {
   "cell_type": "markdown",
   "metadata": {
    "colab_type": "text",
    "id": "hp870gJyd60n"
   },
   "source": [
    "비어있는 리스트에 값 추가하기\n"
   ]
  },
  {
   "cell_type": "code",
   "execution_count": null,
   "metadata": {
    "colab": {
     "base_uri": "https://localhost:8080/",
     "height": 70
    },
    "colab_type": "code",
    "executionInfo": {
     "elapsed": 1187,
     "status": "ok",
     "timestamp": 1599380022098,
     "user": {
      "displayName": "최재홍",
      "photoUrl": "",
      "userId": "11531273785347252451"
     },
     "user_tz": -540
    },
    "id": "g8JjVE_0d0Wr",
    "outputId": "0bb11900-5700-489f-c0a9-5c8e1c0a193b"
   },
   "outputs": [
    {
     "name": "stdout",
     "output_type": "stream",
     "text": [
      "0 [0]\n",
      "1 [0, 5]\n",
      "2 [0, 5, 10]\n"
     ]
    }
   ],
   "source": [
    "for i in range(0,3):\n",
    " v.append(i*5)\n",
    " print(i, v)"
   ]
  },
  {
   "cell_type": "markdown",
   "metadata": {
    "colab_type": "text",
    "id": "IH5wH3mtd-nm"
   },
   "source": [
    "**+연산자**"
   ]
  },
  {
   "cell_type": "code",
   "execution_count": null,
   "metadata": {
    "colab": {
     "base_uri": "https://localhost:8080/",
     "height": 70
    },
    "colab_type": "code",
    "executionInfo": {
     "elapsed": 1178,
     "status": "ok",
     "timestamp": 1599380022099,
     "user": {
      "displayName": "최재홍",
      "photoUrl": "",
      "userId": "11531273785347252451"
     },
     "user_tz": -540
    },
    "id": "_6_4ZzBbd9g0",
    "outputId": "850e9988-75bb-494f-d0e1-36ead26bd8d4"
   },
   "outputs": [
    {
     "name": "stdout",
     "output_type": "stream",
     "text": [
      "(1, 2, 3, 4, 5, 6)\n",
      "[1, 2, 3, 4, 5, 6]\n",
      "Hello World\n"
     ]
    }
   ],
   "source": [
    "print((1, 2, 3) + (4, 5, 6))\n",
    "print([1, 2, 3] + [4, 5, 6])\n",
    "print(\"Hello\" + \" \" + \"World\")"
   ]
  },
  {
   "cell_type": "markdown",
   "metadata": {
    "colab_type": "text",
    "id": "GIVv2G6oeLwQ"
   },
   "source": [
    "***연산자**"
   ]
  },
  {
   "cell_type": "code",
   "execution_count": null,
   "metadata": {
    "colab": {
     "base_uri": "https://localhost:8080/",
     "height": 52
    },
    "colab_type": "code",
    "executionInfo": {
     "elapsed": 1562,
     "status": "ok",
     "timestamp": 1599380022493,
     "user": {
      "displayName": "최재홍",
      "photoUrl": "",
      "userId": "11531273785347252451"
     },
     "user_tz": -540
    },
    "id": "ILK6vmyIeKVv",
    "outputId": "fa8aac7c-4950-44ca-d234-69761336f5ba"
   },
   "outputs": [
    {
     "name": "stdout",
     "output_type": "stream",
     "text": [
      "<class 'float'>\n",
      "2.5 3.5 5.0 6.25\n"
     ]
    }
   ],
   "source": [
    "y = 2.5\n",
    "print(type(y))\n",
    "print(y, y + 1, y * 2, y ** 2)"
   ]
  },
  {
   "cell_type": "markdown",
   "metadata": {
    "colab_type": "text",
    "id": "fDGrpc1LeRIQ"
   },
   "source": [
    "#Enumeration (열거하기)"
   ]
  },
  {
   "cell_type": "code",
   "execution_count": null,
   "metadata": {
    "colab": {
     "base_uri": "https://localhost:8080/",
     "height": 70
    },
    "colab_type": "code",
    "executionInfo": {
     "elapsed": 1555,
     "status": "ok",
     "timestamp": 1599380022495,
     "user": {
      "displayName": "최재홍",
      "photoUrl": "",
      "userId": "11531273785347252451"
     },
     "user_tz": -540
    },
    "id": "AixcGj9HeQO1",
    "outputId": "a4ba3784-4084-42b7-8fd0-292934007b8c"
   },
   "outputs": [
    {
     "name": "stdout",
     "output_type": "stream",
     "text": [
      "0 ---> 0\n",
      "1 ---> 5\n",
      "2 ---> 10\n"
     ]
    }
   ],
   "source": [
    "for i, val in enumerate(v):\n",
    " print('{} ---> {}'.format(i, val))"
   ]
  },
  {
   "cell_type": "code",
   "execution_count": null,
   "metadata": {
    "colab": {
     "base_uri": "https://localhost:8080/",
     "height": 34
    },
    "colab_type": "code",
    "executionInfo": {
     "elapsed": 1545,
     "status": "ok",
     "timestamp": 1599380022496,
     "user": {
      "displayName": "최재홍",
      "photoUrl": "",
      "userId": "11531273785347252451"
     },
     "user_tz": -540
    },
    "id": "HZcPuzCXeUpF",
    "outputId": "8ebabc16-e971-4f54-a3bc-49ff27b3f6c1"
   },
   "outputs": [
    {
     "name": "stdout",
     "output_type": "stream",
     "text": [
      "['A', 'B', 'C', '0', '1', '2', '3']\n"
     ]
    }
   ],
   "source": [
    "v2 = [ 'A', 'B', 'C', '0', '1', '2', '3']\n",
    "print(v2)"
   ]
  },
  {
   "cell_type": "code",
   "execution_count": null,
   "metadata": {
    "colab": {
     "base_uri": "https://localhost:8080/",
     "height": 140
    },
    "colab_type": "code",
    "executionInfo": {
     "elapsed": 1538,
     "status": "ok",
     "timestamp": 1599380022499,
     "user": {
      "displayName": "최재홍",
      "photoUrl": "",
      "userId": "11531273785347252451"
     },
     "user_tz": -540
    },
    "id": "hOaZt8yTeXrL",
    "outputId": "2a47cdb2-788d-4e46-b5a2-6425ba9660a5"
   },
   "outputs": [
    {
     "name": "stdout",
     "output_type": "stream",
     "text": [
      "0 ---> A\n",
      "1 ---> B\n",
      "2 ---> C\n",
      "3 ---> 0\n",
      "4 ---> 1\n",
      "5 ---> 2\n",
      "6 ---> 3\n"
     ]
    }
   ],
   "source": [
    "for i, val in enumerate(v2):\n",
    " print('{} ---> {}'.format(i, val))"
   ]
  },
  {
   "cell_type": "markdown",
   "metadata": {
    "colab_type": "text",
    "id": "qRtGEe-eCJEH"
   },
   "source": [
    "**List comprehension (LC)**\n",
    "\n",
    "\n",
    "List comprehensions provide a concise way to create lists."
   ]
  },
  {
   "cell_type": "code",
   "execution_count": 1,
   "metadata": {
    "colab": {},
    "colab_type": "code",
    "executionInfo": {
     "elapsed": 1907,
     "status": "ok",
     "timestamp": 1600177919760,
     "user": {
      "displayName": "최재홍",
      "photoUrl": "",
      "userId": "11531273785347252451"
     },
     "user_tz": -540
    },
    "id": "_7ebR_M6CO8e"
   },
   "outputs": [],
   "source": [
    "squares = []\n",
    "for x in range(10):\n",
    "    squares.append(x**2)"
   ]
  },
  {
   "cell_type": "code",
   "execution_count": 2,
   "metadata": {
    "colab": {
     "base_uri": "https://localhost:8080/",
     "height": 34
    },
    "colab_type": "code",
    "executionInfo": {
     "elapsed": 1065,
     "status": "ok",
     "timestamp": 1600177924415,
     "user": {
      "displayName": "최재홍",
      "photoUrl": "",
      "userId": "11531273785347252451"
     },
     "user_tz": -540
    },
    "id": "AxrsXyhMCR2d",
    "outputId": "24017ac5-7148-4f8a-fa05-0860e1ba76a7"
   },
   "outputs": [
    {
     "name": "stdout",
     "output_type": "stream",
     "text": [
      "[0, 1, 4, 9, 16, 25, 36, 49, 64, 81]\n"
     ]
    }
   ],
   "source": [
    "print(squares)"
   ]
  },
  {
   "cell_type": "code",
   "execution_count": 3,
   "metadata": {
    "colab": {},
    "colab_type": "code",
    "executionInfo": {
     "elapsed": 1323,
     "status": "ok",
     "timestamp": 1600177932900,
     "user": {
      "displayName": "최재홍",
      "photoUrl": "",
      "userId": "11531273785347252451"
     },
     "user_tz": -540
    },
    "id": "ADuYZNmyCWSW"
   },
   "outputs": [],
   "source": [
    "squares = [x**2 for x in range(10)]"
   ]
  },
  {
   "cell_type": "code",
   "execution_count": 5,
   "metadata": {
    "colab": {
     "base_uri": "https://localhost:8080/",
     "height": 34
    },
    "colab_type": "code",
    "executionInfo": {
     "elapsed": 1084,
     "status": "ok",
     "timestamp": 1600177945807,
     "user": {
      "displayName": "최재홍",
      "photoUrl": "",
      "userId": "11531273785347252451"
     },
     "user_tz": -540
    },
    "id": "MIoVgkacCYSh",
    "outputId": "3989d9ca-5b6b-4055-ae07-0edff15ea2a2"
   },
   "outputs": [
    {
     "name": "stdout",
     "output_type": "stream",
     "text": [
      "[0, 1, 4, 9, 16, 25, 36, 49, 64, 81]\n"
     ]
    }
   ],
   "source": [
    "print(squares)"
   ]
  },
  {
   "cell_type": "code",
   "execution_count": 6,
   "metadata": {
    "colab": {
     "base_uri": "https://localhost:8080/",
     "height": 34
    },
    "colab_type": "code",
    "executionInfo": {
     "elapsed": 1465,
     "status": "ok",
     "timestamp": 1600177954835,
     "user": {
      "displayName": "최재홍",
      "photoUrl": "",
      "userId": "11531273785347252451"
     },
     "user_tz": -540
    },
    "id": "1pwFD5fmCZ7G",
    "outputId": "f09e6a41-0ba6-4297-a31b-90e14aef6f7a"
   },
   "outputs": [
    {
     "name": "stdout",
     "output_type": "stream",
     "text": [
      "['메메', '롱롱']\n"
     ]
    }
   ],
   "source": [
    "word = '메롱'\n",
    "print([c * 2 for c in word])"
   ]
  },
  {
   "cell_type": "code",
   "execution_count": 7,
   "metadata": {
    "colab": {},
    "colab_type": "code",
    "executionInfo": {
     "elapsed": 1191,
     "status": "ok",
     "timestamp": 1600177961012,
     "user": {
      "displayName": "최재홍",
      "photoUrl": "",
      "userId": "11531273785347252451"
     },
     "user_tz": -540
    },
    "id": "sDyDe1fLCdne"
   },
   "outputs": [],
   "source": [
    "A = [n for n in range(10) if n % 2 == 0]"
   ]
  },
  {
   "cell_type": "code",
   "execution_count": 8,
   "metadata": {
    "colab": {
     "base_uri": "https://localhost:8080/",
     "height": 34
    },
    "colab_type": "code",
    "executionInfo": {
     "elapsed": 1069,
     "status": "ok",
     "timestamp": 1600177971709,
     "user": {
      "displayName": "최재홍",
      "photoUrl": "",
      "userId": "11531273785347252451"
     },
     "user_tz": -540
    },
    "id": "8xAkZ2PECfLu",
    "outputId": "4afa6094-219e-4f49-fd3c-dfb7e9e4ab3a"
   },
   "outputs": [
    {
     "name": "stdout",
     "output_type": "stream",
     "text": [
      "[0, 2, 4, 6, 8]\n"
     ]
    }
   ],
   "source": [
    "print(A)"
   ]
  },
  {
   "cell_type": "code",
   "execution_count": null,
   "metadata": {
    "colab": {},
    "colab_type": "code",
    "id": "-h538BQlCh1T"
   },
   "outputs": [],
   "source": []
  }
 ],
 "metadata": {
  "colab": {
   "authorship_tag": "ABX9TyP+/XskdsEtlpc9JJ/bVoSy",
   "collapsed_sections": [],
   "name": "01_HelloPython.ipynb",
   "provenance": []
  },
  "kernelspec": {
   "display_name": "Python 3",
   "language": "python",
   "name": "python3"
  },
  "language_info": {
   "codemirror_mode": {
    "name": "ipython",
    "version": 3
   },
   "file_extension": ".py",
   "mimetype": "text/x-python",
   "name": "python",
   "nbconvert_exporter": "python",
   "pygments_lexer": "ipython3",
   "version": "3.6.9"
  }
 },
 "nbformat": 4,
 "nbformat_minor": 1
}
