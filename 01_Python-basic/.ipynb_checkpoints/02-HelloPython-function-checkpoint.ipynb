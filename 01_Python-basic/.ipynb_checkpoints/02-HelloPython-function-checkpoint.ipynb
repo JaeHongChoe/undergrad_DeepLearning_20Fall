{
 "cells": [
  {
   "cell_type": "markdown",
   "metadata": {
    "colab_type": "text",
    "id": "ynF1DoXPfEJP"
   },
   "source": [
    "#Python tutorial #2"
   ]
  },
  {
   "cell_type": "code",
   "execution_count": 1,
   "metadata": {
    "colab": {},
    "colab_type": "code",
    "executionInfo": {
     "elapsed": 873,
     "status": "ok",
     "timestamp": 1599380297387,
     "user": {
      "displayName": "최재홍",
      "photoUrl": "",
      "userId": "11531273785347252451"
     },
     "user_tz": -540
    },
    "id": "TZh_EyEHfDU4"
   },
   "outputs": [],
   "source": [
    "def hello():\n",
    " print(\"Hello World\")"
   ]
  },
  {
   "cell_type": "code",
   "execution_count": 2,
   "metadata": {
    "colab": {
     "base_uri": "https://localhost:8080/",
     "height": 34
    },
    "colab_type": "code",
    "executionInfo": {
     "elapsed": 864,
     "status": "ok",
     "timestamp": 1599380297389,
     "user": {
      "displayName": "최재홍",
      "photoUrl": "",
      "userId": "11531273785347252451"
     },
     "user_tz": -540
    },
    "id": "9GktTMPpfJL7",
    "outputId": "3c77f80b-4350-41ad-c0a9-e75a2df8807f"
   },
   "outputs": [
    {
     "name": "stdout",
     "output_type": "stream",
     "text": [
      "Hello World\n"
     ]
    }
   ],
   "source": [
    "hello()"
   ]
  },
  {
   "cell_type": "code",
   "execution_count": 3,
   "metadata": {
    "colab": {},
    "colab_type": "code",
    "executionInfo": {
     "elapsed": 855,
     "status": "ok",
     "timestamp": 1599380297390,
     "user": {
      "displayName": "최재홍",
      "photoUrl": "",
      "userId": "11531273785347252451"
     },
     "user_tz": -540
    },
    "id": "Rtp72BIcfLJ9"
   },
   "outputs": [],
   "source": [
    "def hello(object):\n",
    " print(\"Hello \" + object + \"!\")"
   ]
  },
  {
   "cell_type": "code",
   "execution_count": 4,
   "metadata": {
    "colab": {
     "base_uri": "https://localhost:8080/",
     "height": 34
    },
    "colab_type": "code",
    "executionInfo": {
     "elapsed": 847,
     "status": "ok",
     "timestamp": 1599380297391,
     "user": {
      "displayName": "최재홍",
      "photoUrl": "",
      "userId": "11531273785347252451"
     },
     "user_tz": -540
    },
    "id": "ufRQCQUsfNc8",
    "outputId": "2ca28de3-1658-4ea6-8f91-4750c464f272"
   },
   "outputs": [
    {
     "name": "stdout",
     "output_type": "stream",
     "text": [
      "Hello cat!\n"
     ]
    }
   ],
   "source": [
    "hello(\"cat\")"
   ]
  },
  {
   "cell_type": "code",
   "execution_count": 5,
   "metadata": {
    "colab": {},
    "colab_type": "code",
    "executionInfo": {
     "elapsed": 838,
     "status": "ok",
     "timestamp": 1599380297392,
     "user": {
      "displayName": "최재홍",
      "photoUrl": "",
      "userId": "11531273785347252451"
     },
     "user_tz": -540
    },
    "id": "dYahrbSRfQ1P"
   },
   "outputs": [],
   "source": [
    "def mySum(a, b):\n",
    " return a+b"
   ]
  },
  {
   "cell_type": "code",
   "execution_count": 6,
   "metadata": {
    "colab": {
     "base_uri": "https://localhost:8080/",
     "height": 34
    },
    "colab_type": "code",
    "executionInfo": {
     "elapsed": 829,
     "status": "ok",
     "timestamp": 1599380297393,
     "user": {
      "displayName": "최재홍",
      "photoUrl": "",
      "userId": "11531273785347252451"
     },
     "user_tz": -540
    },
    "id": "VT_gllrtfSdy",
    "outputId": "578473c1-2f68-4d52-e4a4-5ebac6c6fe74"
   },
   "outputs": [
    {
     "name": "stdout",
     "output_type": "stream",
     "text": [
      "5\n"
     ]
    }
   ],
   "source": [
    "c = mySum(2, 3)\n",
    "print(c)"
   ]
  },
  {
   "cell_type": "code",
   "execution_count": 7,
   "metadata": {
    "colab": {},
    "colab_type": "code",
    "executionInfo": {
     "elapsed": 821,
     "status": "ok",
     "timestamp": 1599380297394,
     "user": {
      "displayName": "최재홍",
      "photoUrl": "",
      "userId": "11531273785347252451"
     },
     "user_tz": -540
    },
    "id": "KkZ_VlsefUv0"
   },
   "outputs": [],
   "source": [
    "class Man:\n",
    " def __init__(self, name):\n",
    "  self.name = name\n",
    "  print(\"Initialized!\")\n",
    "\n",
    " def hello(self):\n",
    "  print(\"Hello \" + self.name + \" !\")\n",
    "\n",
    " def goodbye(self):\n",
    "  print(\"Good-bye \" + self.name + \" !\")"
   ]
  },
  {
   "cell_type": "code",
   "execution_count": 8,
   "metadata": {
    "colab": {
     "base_uri": "https://localhost:8080/",
     "height": 34
    },
    "colab_type": "code",
    "executionInfo": {
     "elapsed": 814,
     "status": "ok",
     "timestamp": 1599380297395,
     "user": {
      "displayName": "최재홍",
      "photoUrl": "",
      "userId": "11531273785347252451"
     },
     "user_tz": -540
    },
    "id": "OXIN0dfjfX3v",
    "outputId": "298ae525-3abb-4656-ffa5-1b8a5e0012fc"
   },
   "outputs": [
    {
     "name": "stdout",
     "output_type": "stream",
     "text": [
      "Initialized!\n"
     ]
    }
   ],
   "source": [
    "m = Man(\"David\")"
   ]
  },
  {
   "cell_type": "code",
   "execution_count": 9,
   "metadata": {
    "colab": {
     "base_uri": "https://localhost:8080/",
     "height": 34
    },
    "colab_type": "code",
    "executionInfo": {
     "elapsed": 804,
     "status": "ok",
     "timestamp": 1599380297396,
     "user": {
      "displayName": "최재홍",
      "photoUrl": "",
      "userId": "11531273785347252451"
     },
     "user_tz": -540
    },
    "id": "9vNcxIczfgPo",
    "outputId": "747738f3-6fcd-48f0-a909-3287abf4917f"
   },
   "outputs": [
    {
     "name": "stdout",
     "output_type": "stream",
     "text": [
      "Hello David !\n"
     ]
    }
   ],
   "source": [
    "m.hello()"
   ]
  },
  {
   "cell_type": "code",
   "execution_count": 10,
   "metadata": {
    "colab": {
     "base_uri": "https://localhost:8080/",
     "height": 34
    },
    "colab_type": "code",
    "executionInfo": {
     "elapsed": 795,
     "status": "ok",
     "timestamp": 1599380297397,
     "user": {
      "displayName": "최재홍",
      "photoUrl": "",
      "userId": "11531273785347252451"
     },
     "user_tz": -540
    },
    "id": "viyfRYKffkYK",
    "outputId": "61cf4164-e980-4c11-b2d5-6fe3914849b3"
   },
   "outputs": [
    {
     "name": "stdout",
     "output_type": "stream",
     "text": [
      "Good-bye David !\n"
     ]
    }
   ],
   "source": [
    "m.goodbye()"
   ]
  },
  {
   "cell_type": "code",
   "execution_count": null,
   "metadata": {
    "colab": {},
    "colab_type": "code",
    "executionInfo": {
     "elapsed": 1036,
     "status": "ok",
     "timestamp": 1599380297643,
     "user": {
      "displayName": "최재홍",
      "photoUrl": "",
      "userId": "11531273785347252451"
     },
     "user_tz": -540
    },
    "id": "5YEU4jcPfmTw"
   },
   "outputs": [],
   "source": []
  }
 ],
 "metadata": {
  "colab": {
   "authorship_tag": "ABX9TyMsW2RgSrTjtpkbJECv6rI/",
   "name": "02_HelloPython.ipynb",
   "provenance": []
  },
  "kernelspec": {
   "display_name": "Python 3",
   "language": "python",
   "name": "python3"
  },
  "language_info": {
   "codemirror_mode": {
    "name": "ipython",
    "version": 3
   },
   "file_extension": ".py",
   "mimetype": "text/x-python",
   "name": "python",
   "nbconvert_exporter": "python",
   "pygments_lexer": "ipython3",
   "version": "3.6.9"
  }
 },
 "nbformat": 4,
 "nbformat_minor": 1
}
