{
 "cells": [
  {
   "cell_type": "markdown",
   "metadata": {
    "colab_type": "text",
    "id": "Z5W_M5LSC9Za"
   },
   "source": [
    "# **Python Numpy Tutorial #1**\n",
    "\n",
    "#**NumPy**"
   ]
  },
  {
   "cell_type": "code",
   "execution_count": 53,
   "metadata": {
    "colab": {},
    "colab_type": "code",
    "executionInfo": {
     "elapsed": 1741,
     "status": "ok",
     "timestamp": 1600178163506,
     "user": {
      "displayName": "최재홍",
      "photoUrl": "",
      "userId": "11531273785347252451"
     },
     "user_tz": -540
    },
    "id": "1-XfnzXxC13v"
   },
   "outputs": [],
   "source": [
    "import numpy as np\n",
    "import matplotlib.pyplot as plt"
   ]
  },
  {
   "cell_type": "markdown",
   "metadata": {
    "colab_type": "text",
    "id": "o7EJ5qW3DO8Z"
   },
   "source": [
    "**List 형태의 배열**"
   ]
  },
  {
   "cell_type": "code",
   "execution_count": 54,
   "metadata": {
    "colab": {},
    "colab_type": "code",
    "executionInfo": {
     "elapsed": 1000,
     "status": "ok",
     "timestamp": 1600178174967,
     "user": {
      "displayName": "최재홍",
      "photoUrl": "",
      "userId": "11531273785347252451"
     },
     "user_tz": -540
    },
    "id": "1AcfcJvcDOWL"
   },
   "outputs": [],
   "source": [
    "a = [1, 2, 3]"
   ]
  },
  {
   "cell_type": "code",
   "execution_count": 55,
   "metadata": {
    "colab": {
     "base_uri": "https://localhost:8080/",
     "height": 34
    },
    "colab_type": "code",
    "executionInfo": {
     "elapsed": 1076,
     "status": "ok",
     "timestamp": 1600178180963,
     "user": {
      "displayName": "최재홍",
      "photoUrl": "",
      "userId": "11531273785347252451"
     },
     "user_tz": -540
    },
    "id": "mSVpAbWPDTeo",
    "outputId": "154342c1-256d-4494-bf3b-3bf7de461288"
   },
   "outputs": [
    {
     "name": "stdout",
     "output_type": "stream",
     "text": [
      "[1, 2, 3]\n"
     ]
    }
   ],
   "source": [
    "print(a)"
   ]
  },
  {
   "cell_type": "markdown",
   "metadata": {
    "colab_type": "text",
    "id": "oHNTYYwDDVvc"
   },
   "source": [
    "**Numpy 사용한 배열**"
   ]
  },
  {
   "cell_type": "code",
   "execution_count": 56,
   "metadata": {
    "colab": {},
    "colab_type": "code",
    "executionInfo": {
     "elapsed": 1163,
     "status": "ok",
     "timestamp": 1600178197896,
     "user": {
      "displayName": "최재홍",
      "photoUrl": "",
      "userId": "11531273785347252451"
     },
     "user_tz": -540
    },
    "id": "cf4Z1RmlDU0O"
   },
   "outputs": [],
   "source": [
    "a = np.array([1, 2, 3])"
   ]
  },
  {
   "cell_type": "code",
   "execution_count": 57,
   "metadata": {
    "colab": {
     "base_uri": "https://localhost:8080/",
     "height": 34
    },
    "colab_type": "code",
    "executionInfo": {
     "elapsed": 1831,
     "status": "ok",
     "timestamp": 1600178201794,
     "user": {
      "displayName": "최재홍",
      "photoUrl": "",
      "userId": "11531273785347252451"
     },
     "user_tz": -540
    },
    "id": "DSRWtOEPDZBG",
    "outputId": "58f68bc6-4d49-45d3-f10a-ef1366728cfe"
   },
   "outputs": [
    {
     "name": "stdout",
     "output_type": "stream",
     "text": [
      "[1 2 3]\n"
     ]
    }
   ],
   "source": [
    "print(a)"
   ]
  },
  {
   "cell_type": "code",
   "execution_count": 58,
   "metadata": {
    "colab": {
     "base_uri": "https://localhost:8080/",
     "height": 34
    },
    "colab_type": "code",
    "executionInfo": {
     "elapsed": 1519,
     "status": "ok",
     "timestamp": 1600178205900,
     "user": {
      "displayName": "최재홍",
      "photoUrl": "",
      "userId": "11531273785347252451"
     },
     "user_tz": -540
    },
    "id": "swBlg35MDZ01",
    "outputId": "0f4e1904-d9b3-4001-9080-0c3a368bf0e1"
   },
   "outputs": [
    {
     "data": {
      "text/plain": [
       "(3,)"
      ]
     },
     "execution_count": 58,
     "metadata": {},
     "output_type": "execute_result"
    }
   ],
   "source": [
    "a.shape"
   ]
  },
  {
   "cell_type": "markdown",
   "metadata": {
    "colab_type": "text",
    "id": "e-RQYmRuDdSy"
   },
   "source": [
    "Create a vector with values ranging from 0 to 8 (총 9개)"
   ]
  },
  {
   "cell_type": "code",
   "execution_count": 59,
   "metadata": {
    "colab": {
     "base_uri": "https://localhost:8080/",
     "height": 34
    },
    "colab_type": "code",
    "executionInfo": {
     "elapsed": 1486,
     "status": "ok",
     "timestamp": 1600178212913,
     "user": {
      "displayName": "최재홍",
      "photoUrl": "",
      "userId": "11531273785347252451"
     },
     "user_tz": -540
    },
    "id": "SEREkDbGDavs",
    "outputId": "206a17f7-240d-4be4-e54b-53b2fe58fe4e"
   },
   "outputs": [
    {
     "name": "stdout",
     "output_type": "stream",
     "text": [
      "[0 1 2 3 4 5 6 7 8]\n"
     ]
    }
   ],
   "source": [
    "Z = np.arange(9)\n",
    "print(Z)"
   ]
  },
  {
   "cell_type": "markdown",
   "metadata": {
    "colab_type": "text",
    "id": "v5ggCamlDf-G"
   },
   "source": [
    "Create a vector with values ranging from 10 to 19"
   ]
  },
  {
   "cell_type": "code",
   "execution_count": 60,
   "metadata": {
    "colab": {
     "base_uri": "https://localhost:8080/",
     "height": 34
    },
    "colab_type": "code",
    "executionInfo": {
     "elapsed": 1222,
     "status": "ok",
     "timestamp": 1600178239371,
     "user": {
      "displayName": "최재홍",
      "photoUrl": "",
      "userId": "11531273785347252451"
     },
     "user_tz": -540
    },
    "id": "WtIxEnB4DcoN",
    "outputId": "f805698f-c81e-43c6-d04e-79e11e0f758c"
   },
   "outputs": [
    {
     "name": "stdout",
     "output_type": "stream",
     "text": [
      "[10 11 12 13 14 15 16 17 18 19]\n"
     ]
    }
   ],
   "source": [
    "Z = np.arange(10,20)\n",
    "print(Z)"
   ]
  },
  {
   "cell_type": "code",
   "execution_count": 61,
   "metadata": {
    "colab": {
     "base_uri": "https://localhost:8080/",
     "height": 52
    },
    "colab_type": "code",
    "executionInfo": {
     "elapsed": 1074,
     "status": "ok",
     "timestamp": 1600178259685,
     "user": {
      "displayName": "최재홍",
      "photoUrl": "",
      "userId": "11531273785347252451"
     },
     "user_tz": -540
    },
    "id": "xvF6npsvDjIz",
    "outputId": "bfaa32e5-057d-4e7b-d79c-6986e4d8d9c2"
   },
   "outputs": [
    {
     "name": "stdout",
     "output_type": "stream",
     "text": [
      "(2, 3)\n",
      "1 2 4\n"
     ]
    }
   ],
   "source": [
    "b = np.array([[1,2,3],[4,5,6]])   \n",
    "print(b.shape)\n",
    "print(b[0, 0], b[0, 1], b[1, 0])"
   ]
  },
  {
   "cell_type": "markdown",
   "metadata": {
    "colab_type": "text",
    "id": "y6eJ9KazDpYq"
   },
   "source": [
    "\n",
    "* 순서 뒤집기\n",
    "\n",
    "    Reverse a vector : first element becomes last\n"
   ]
  },
  {
   "cell_type": "code",
   "execution_count": 62,
   "metadata": {
    "colab": {
     "base_uri": "https://localhost:8080/",
     "height": 34
    },
    "colab_type": "code",
    "executionInfo": {
     "elapsed": 1078,
     "status": "ok",
     "timestamp": 1600178313072,
     "user": {
      "displayName": "최재홍",
      "photoUrl": "",
      "userId": "11531273785347252451"
     },
     "user_tz": -540
    },
    "id": "QZgxPPneDoJR",
    "outputId": "18670611-3ad7-476c-cb1f-9fd1975e0c5c"
   },
   "outputs": [
    {
     "name": "stdout",
     "output_type": "stream",
     "text": [
      "[0 1 2 3 4 5 6 7 8 9]\n"
     ]
    }
   ],
   "source": [
    "Z = np.arange(10)\n",
    "print(Z)"
   ]
  },
  {
   "cell_type": "code",
   "execution_count": 63,
   "metadata": {
    "colab": {
     "base_uri": "https://localhost:8080/",
     "height": 34
    },
    "colab_type": "code",
    "executionInfo": {
     "elapsed": 967,
     "status": "ok",
     "timestamp": 1600178320366,
     "user": {
      "displayName": "최재홍",
      "photoUrl": "",
      "userId": "11531273785347252451"
     },
     "user_tz": -540
    },
    "id": "1qyucdrvD1LY",
    "outputId": "a50e3bf7-905c-43cb-933f-6eb73cf5369d"
   },
   "outputs": [
    {
     "name": "stdout",
     "output_type": "stream",
     "text": [
      "[9 8 7 6 5 4 3 2 1 0]\n"
     ]
    }
   ],
   "source": [
    "Z = Z[::-1]\n",
    "print(Z)"
   ]
  },
  {
   "cell_type": "markdown",
   "metadata": {
    "colab_type": "text",
    "id": "OeIDlMpAD4ND"
   },
   "source": [
    "**Axis / axes**\n",
    "\n",
    "* the nth coordinate to index an array in Numpy.\n",
    "*  multidimensional arrays can have one index per axis."
   ]
  },
  {
   "cell_type": "code",
   "execution_count": 64,
   "metadata": {
    "colab": {
     "base_uri": "https://localhost:8080/",
     "height": 52
    },
    "colab_type": "code",
    "executionInfo": {
     "elapsed": 1391,
     "status": "ok",
     "timestamp": 1600178409158,
     "user": {
      "displayName": "최재홍",
      "photoUrl": "",
      "userId": "11531273785347252451"
     },
     "user_tz": -540
    },
    "id": "nhCNLX-pD2_J",
    "outputId": "6d59ecfd-fb93-4dc6-9c85-2633619edae5"
   },
   "outputs": [
    {
     "name": "stdout",
     "output_type": "stream",
     "text": [
      "[[1 2]\n",
      " [3 4]]\n"
     ]
    }
   ],
   "source": [
    "a = np.array([[1, 2], [3, 4]])\n",
    "print(a)"
   ]
  },
  {
   "cell_type": "markdown",
   "metadata": {
    "colab_type": "text",
    "id": "mhhFQNDVENoM"
   },
   "source": [
    "\n",
    "Axis를 지정하지 않으면 전체 평균을 구하게 됨"
   ]
  },
  {
   "cell_type": "code",
   "execution_count": 65,
   "metadata": {
    "colab": {
     "base_uri": "https://localhost:8080/",
     "height": 34
    },
    "colab_type": "code",
    "executionInfo": {
     "elapsed": 1685,
     "status": "ok",
     "timestamp": 1600178430399,
     "user": {
      "displayName": "최재홍",
      "photoUrl": "",
      "userId": "11531273785347252451"
     },
     "user_tz": -540
    },
    "id": "DfUHqLJ7EMjN",
    "outputId": "3daffd35-19e5-45d1-fdc9-d1b041ede7e0"
   },
   "outputs": [
    {
     "data": {
      "text/plain": [
       "2.5"
      ]
     },
     "execution_count": 65,
     "metadata": {},
     "output_type": "execute_result"
    }
   ],
   "source": [
    "np.mean(a)"
   ]
  },
  {
   "cell_type": "markdown",
   "metadata": {
    "colab_type": "text",
    "id": "fedqZ8ROESWa"
   },
   "source": [
    "Axis 0 방향 (↓)"
   ]
  },
  {
   "cell_type": "code",
   "execution_count": 66,
   "metadata": {
    "colab": {
     "base_uri": "https://localhost:8080/",
     "height": 34
    },
    "colab_type": "code",
    "executionInfo": {
     "elapsed": 1552,
     "status": "ok",
     "timestamp": 1600178446214,
     "user": {
      "displayName": "최재홍",
      "photoUrl": "",
      "userId": "11531273785347252451"
     },
     "user_tz": -540
    },
    "id": "POWAHt_jERnu",
    "outputId": "5434e7c0-7b29-4232-9000-9a2cabdca855"
   },
   "outputs": [
    {
     "data": {
      "text/plain": [
       "array([2., 3.])"
      ]
     },
     "execution_count": 66,
     "metadata": {},
     "output_type": "execute_result"
    }
   ],
   "source": [
    "np.mean(a, axis=0)"
   ]
  },
  {
   "cell_type": "code",
   "execution_count": 67,
   "metadata": {
    "colab": {
     "base_uri": "https://localhost:8080/",
     "height": 34
    },
    "colab_type": "code",
    "executionInfo": {
     "elapsed": 1127,
     "status": "ok",
     "timestamp": 1600178452838,
     "user": {
      "displayName": "최재홍",
      "photoUrl": "",
      "userId": "11531273785347252451"
     },
     "user_tz": -540
    },
    "id": "V_xQP04FEVkF",
    "outputId": "ab7e81e1-97cd-40ef-e503-9ff8af61e905"
   },
   "outputs": [
    {
     "data": {
      "text/plain": [
       "array([4, 6])"
      ]
     },
     "execution_count": 67,
     "metadata": {},
     "output_type": "execute_result"
    }
   ],
   "source": [
    "np.sum(a, axis=0)"
   ]
  },
  {
   "cell_type": "markdown",
   "metadata": {
    "colab_type": "text",
    "id": "ArTzMXQ_EYWA"
   },
   "source": [
    "Axis 1 방향 (→)"
   ]
  },
  {
   "cell_type": "code",
   "execution_count": 68,
   "metadata": {
    "colab": {
     "base_uri": "https://localhost:8080/",
     "height": 34
    },
    "colab_type": "code",
    "executionInfo": {
     "elapsed": 1479,
     "status": "ok",
     "timestamp": 1600178470923,
     "user": {
      "displayName": "최재홍",
      "photoUrl": "",
      "userId": "11531273785347252451"
     },
     "user_tz": -540
    },
    "id": "8Zq03HjSEXSf",
    "outputId": "6d10de5b-9c8a-4535-af26-67d743ed9ff4"
   },
   "outputs": [
    {
     "data": {
      "text/plain": [
       "array([1.5, 3.5])"
      ]
     },
     "execution_count": 68,
     "metadata": {},
     "output_type": "execute_result"
    }
   ],
   "source": [
    "np.mean(a, axis=1)"
   ]
  },
  {
   "cell_type": "code",
   "execution_count": 69,
   "metadata": {
    "colab": {
     "base_uri": "https://localhost:8080/",
     "height": 34
    },
    "colab_type": "code",
    "executionInfo": {
     "elapsed": 1290,
     "status": "ok",
     "timestamp": 1600178477650,
     "user": {
      "displayName": "최재홍",
      "photoUrl": "",
      "userId": "11531273785347252451"
     },
     "user_tz": -540
    },
    "id": "rzRowLJCEbnK",
    "outputId": "a427652d-c879-450f-ab2c-0725b1d28b3b"
   },
   "outputs": [
    {
     "data": {
      "text/plain": [
       "array([3, 7])"
      ]
     },
     "execution_count": 69,
     "metadata": {},
     "output_type": "execute_result"
    }
   ],
   "source": [
    "np.sum(a, axis=1)"
   ]
  },
  {
   "cell_type": "markdown",
   "metadata": {
    "colab_type": "text",
    "id": "iKaAL1FTEeN4"
   },
   "source": [
    "**<h3>Slicing and dicing**\n",
    "\n",
    "Slicing and Dicing refers to a way of segmenting, viewing and comprehending data in a database. Large blocks of data is cut into smaller segments and the process is repeated until the correct level of detail is achieved for proper analysis.\n"
   ]
  },
  {
   "cell_type": "code",
   "execution_count": 70,
   "metadata": {
    "colab": {
     "base_uri": "https://localhost:8080/",
     "height": 34
    },
    "colab_type": "code",
    "executionInfo": {
     "elapsed": 858,
     "status": "ok",
     "timestamp": 1600178522256,
     "user": {
      "displayName": "최재홍",
      "photoUrl": "",
      "userId": "11531273785347252451"
     },
     "user_tz": -540
    },
    "id": "T2UV9n2eEdR_",
    "outputId": "0bb99264-fc14-462c-cb60-9de7ac2c7096"
   },
   "outputs": [
    {
     "name": "stdout",
     "output_type": "stream",
     "text": [
      "[0 1 2 3 4 5 6 7 8 9]\n"
     ]
    }
   ],
   "source": [
    "a = np.arange(10)\n",
    "print(a)"
   ]
  },
  {
   "cell_type": "code",
   "execution_count": 71,
   "metadata": {
    "colab": {
     "base_uri": "https://localhost:8080/",
     "height": 34
    },
    "colab_type": "code",
    "executionInfo": {
     "elapsed": 1480,
     "status": "ok",
     "timestamp": 1600178529067,
     "user": {
      "displayName": "최재홍",
      "photoUrl": "",
      "userId": "11531273785347252451"
     },
     "user_tz": -540
    },
    "id": "H4GqYyN2EoTI",
    "outputId": "5b2ad2f9-78c9-4210-bc58-a95a43228514"
   },
   "outputs": [
    {
     "data": {
      "text/plain": [
       "array([2, 4, 6])"
      ]
     },
     "execution_count": 71,
     "metadata": {},
     "output_type": "execute_result"
    }
   ],
   "source": [
    "##(start:stop:step)\n",
    "a[2:7:2]"
   ]
  },
  {
   "cell_type": "code",
   "execution_count": 72,
   "metadata": {
    "colab": {
     "base_uri": "https://localhost:8080/",
     "height": 34
    },
    "colab_type": "code",
    "executionInfo": {
     "elapsed": 1008,
     "status": "ok",
     "timestamp": 1600178535410,
     "user": {
      "displayName": "최재홍",
      "photoUrl": "",
      "userId": "11531273785347252451"
     },
     "user_tz": -540
    },
    "id": "ZyPd5nBCEpz0",
    "outputId": "7b59a910-35e6-49ba-e186-155820d81a30"
   },
   "outputs": [
    {
     "data": {
      "text/plain": [
       "array([4, 5, 6, 7, 8, 9])"
      ]
     },
     "execution_count": 72,
     "metadata": {},
     "output_type": "execute_result"
    }
   ],
   "source": [
    "a[4:]"
   ]
  },
  {
   "cell_type": "code",
   "execution_count": 73,
   "metadata": {
    "colab": {
     "base_uri": "https://localhost:8080/",
     "height": 70
    },
    "colab_type": "code",
    "executionInfo": {
     "elapsed": 1175,
     "status": "ok",
     "timestamp": 1600178545421,
     "user": {
      "displayName": "최재홍",
      "photoUrl": "",
      "userId": "11531273785347252451"
     },
     "user_tz": -540
    },
    "id": "kTj-F-cdEreS",
    "outputId": "c490a766-934c-4e47-8fa5-208f6739e5e8"
   },
   "outputs": [
    {
     "name": "stdout",
     "output_type": "stream",
     "text": [
      "[[1 2 3]\n",
      " [3 4 5]\n",
      " [4 5 6]]\n"
     ]
    }
   ],
   "source": [
    "a = np.array([[1,2,3],[3,4,5],[4,5,6]]) \n",
    "print(a)"
   ]
  },
  {
   "cell_type": "code",
   "execution_count": 74,
   "metadata": {
    "colab": {
     "base_uri": "https://localhost:8080/",
     "height": 34
    },
    "colab_type": "code",
    "executionInfo": {
     "elapsed": 1149,
     "status": "ok",
     "timestamp": 1600178558155,
     "user": {
      "displayName": "최재홍",
      "photoUrl": "",
      "userId": "11531273785347252451"
     },
     "user_tz": -540
    },
    "id": "n8B1MJcFEt3c",
    "outputId": "f67bcd90-f637-41b7-d0c4-923b6a5d5614"
   },
   "outputs": [
    {
     "data": {
      "text/plain": [
       "array([2, 4, 5])"
      ]
     },
     "execution_count": 74,
     "metadata": {},
     "output_type": "execute_result"
    }
   ],
   "source": [
    "# Returns array of items in the second column \n",
    "a[...,1]"
   ]
  },
  {
   "cell_type": "code",
   "execution_count": 75,
   "metadata": {
    "colab": {
     "base_uri": "https://localhost:8080/",
     "height": 34
    },
    "colab_type": "code",
    "executionInfo": {
     "elapsed": 1088,
     "status": "ok",
     "timestamp": 1600178567032,
     "user": {
      "displayName": "최재홍",
      "photoUrl": "",
      "userId": "11531273785347252451"
     },
     "user_tz": -540
    },
    "id": "7W9YcmySEw_i",
    "outputId": "c127f0b5-64b3-4a6b-c082-10b8528f8819"
   },
   "outputs": [
    {
     "data": {
      "text/plain": [
       "array([3, 4, 5])"
      ]
     },
     "execution_count": 75,
     "metadata": {},
     "output_type": "execute_result"
    }
   ],
   "source": [
    "# Will slice all items from the second row \n",
    "a[1,...]"
   ]
  },
  {
   "cell_type": "code",
   "execution_count": 76,
   "metadata": {
    "colab": {
     "base_uri": "https://localhost:8080/",
     "height": 70
    },
    "colab_type": "code",
    "executionInfo": {
     "elapsed": 1157,
     "status": "ok",
     "timestamp": 1600178573422,
     "user": {
      "displayName": "최재홍",
      "photoUrl": "",
      "userId": "11531273785347252451"
     },
     "user_tz": -540
    },
    "id": "xRrw13V5EyQE",
    "outputId": "212a899e-a794-43be-ee75-400e3134c6ec"
   },
   "outputs": [
    {
     "data": {
      "text/plain": [
       "array([[2, 3],\n",
       "       [4, 5],\n",
       "       [5, 6]])"
      ]
     },
     "execution_count": 76,
     "metadata": {},
     "output_type": "execute_result"
    }
   ],
   "source": [
    "# Will slice all items from column 1 onwards \n",
    "a[...,1:]"
   ]
  },
  {
   "cell_type": "code",
   "execution_count": 77,
   "metadata": {
    "colab": {
     "base_uri": "https://localhost:8080/",
     "height": 52
    },
    "colab_type": "code",
    "executionInfo": {
     "elapsed": 1250,
     "status": "ok",
     "timestamp": 1600178582020,
     "user": {
      "displayName": "최재홍",
      "photoUrl": "",
      "userId": "11531273785347252451"
     },
     "user_tz": -540
    },
    "id": "fpK0KIr-E0tz",
    "outputId": "c352ddab-bec4-4b93-a2c1-a872be168097"
   },
   "outputs": [
    {
     "data": {
      "text/plain": [
       "array([[4, 5],\n",
       "       [5, 6]])"
      ]
     },
     "execution_count": 77,
     "metadata": {},
     "output_type": "execute_result"
    }
   ],
   "source": [
    "# Slicing using advanced index for column\n",
    "a[1:3,[1,2]]"
   ]
  },
  {
   "cell_type": "markdown",
   "metadata": {
    "colab_type": "text",
    "id": "8Nj7RlOvE35P"
   },
   "source": [
    "**<h3>Broadcast**\n",
    "\n",
    "넘파이에서 형상이 다른 배열을 계산하기 위해서 지원하는 기능 (without explicit for-loop)"
   ]
  },
  {
   "cell_type": "code",
   "execution_count": 78,
   "metadata": {
    "colab": {
     "base_uri": "https://localhost:8080/",
     "height": 70
    },
    "colab_type": "code",
    "executionInfo": {
     "elapsed": 1512,
     "status": "ok",
     "timestamp": 1600178613118,
     "user": {
      "displayName": "최재홍",
      "photoUrl": "",
      "userId": "11531273785347252451"
     },
     "user_tz": -540
    },
    "id": "7FCpLL6vE2yb",
    "outputId": "b0627b31-a0ac-4001-93c7-983a6c1dc919"
   },
   "outputs": [
    {
     "name": "stdout",
     "output_type": "stream",
     "text": [
      "[[ 56.    0.    4.   68. ]\n",
      " [  1.2 104.   52.    8. ]\n",
      " [  1.8 135.   99.    0.9]]\n"
     ]
    }
   ],
   "source": [
    "A = np.array([[56.0, 0.0, 4.0, 68.0], \n",
    "              [1.2, 104.0, 52.0, 8.0], \n",
    "              [1.8, 135.0, 99.0, 0.9]])\n",
    "print(A)"
   ]
  },
  {
   "cell_type": "code",
   "execution_count": 79,
   "metadata": {
    "colab": {
     "base_uri": "https://localhost:8080/",
     "height": 34
    },
    "colab_type": "code",
    "executionInfo": {
     "elapsed": 1219,
     "status": "ok",
     "timestamp": 1600178619656,
     "user": {
      "displayName": "최재홍",
      "photoUrl": "",
      "userId": "11531273785347252451"
     },
     "user_tz": -540
    },
    "id": "2u7PpryWE-UX",
    "outputId": "a8fb3b6b-a7b7-49aa-be98-570e5275f3ad"
   },
   "outputs": [
    {
     "name": "stdout",
     "output_type": "stream",
     "text": [
      "[ 59.  239.  155.   76.9]\n"
     ]
    }
   ],
   "source": [
    "cal = A.sum(axis=0)\n",
    "print(cal)"
   ]
  },
  {
   "cell_type": "code",
   "execution_count": 80,
   "metadata": {
    "colab": {
     "base_uri": "https://localhost:8080/",
     "height": 70
    },
    "colab_type": "code",
    "executionInfo": {
     "elapsed": 1159,
     "status": "ok",
     "timestamp": 1600178626017,
     "user": {
      "displayName": "최재홍",
      "photoUrl": "",
      "userId": "11531273785347252451"
     },
     "user_tz": -540
    },
    "id": "NiAPnshxE__L",
    "outputId": "09d51ae7-ea73-4855-d5fc-22b0414190d8"
   },
   "outputs": [
    {
     "name": "stdout",
     "output_type": "stream",
     "text": [
      "[[94.91525424  0.          2.58064516 88.42652796]\n",
      " [ 2.03389831 43.51464435 33.5483871  10.40312094]\n",
      " [ 3.05084746 56.48535565 63.87096774  1.17035111]]\n"
     ]
    }
   ],
   "source": [
    "percentage = 100* A / cal #.reshape(1,4)\n",
    "print(percentage)"
   ]
  },
  {
   "cell_type": "markdown",
   "metadata": {
    "colab_type": "text",
    "id": "imiAiaJZFCz6"
   },
   "source": [
    "**<h3>Stack**"
   ]
  },
  {
   "cell_type": "code",
   "execution_count": 81,
   "metadata": {
    "colab": {},
    "colab_type": "code",
    "executionInfo": {
     "elapsed": 1317,
     "status": "ok",
     "timestamp": 1600178652058,
     "user": {
      "displayName": "최재홍",
      "photoUrl": "",
      "userId": "11531273785347252451"
     },
     "user_tz": -540
    },
    "id": "mLfjfZCUFBju"
   },
   "outputs": [],
   "source": [
    "a = np.array([1,2,3,4])\n",
    "b = np.array([5,6,7,8])"
   ]
  },
  {
   "cell_type": "markdown",
   "metadata": {
    "colab_type": "text",
    "id": "ZWI9QEMhFJCB"
   },
   "source": [
    "* 세로로 쌓기"
   ]
  },
  {
   "cell_type": "code",
   "execution_count": 82,
   "metadata": {
    "colab": {
     "base_uri": "https://localhost:8080/",
     "height": 70
    },
    "colab_type": "code",
    "executionInfo": {
     "elapsed": 689,
     "status": "ok",
     "timestamp": 1600178670676,
     "user": {
      "displayName": "최재홍",
      "photoUrl": "",
      "userId": "11531273785347252451"
     },
     "user_tz": -540
    },
    "id": "PZwHEoWyFH4V",
    "outputId": "58b825db-1f9a-405a-9b24-1316cde274de"
   },
   "outputs": [
    {
     "name": "stdout",
     "output_type": "stream",
     "text": [
      "[[1 2 3 4]\n",
      " [5 6 7 8]]\n",
      "(2, 4)\n"
     ]
    }
   ],
   "source": [
    "c = np.vstack((a,b))\n",
    "print(c)\n",
    "print(c.shape)"
   ]
  },
  {
   "cell_type": "markdown",
   "metadata": {
    "colab_type": "text",
    "id": "nqlI30oLFNri"
   },
   "source": [
    "* 가로로 쌓기"
   ]
  },
  {
   "cell_type": "code",
   "execution_count": 83,
   "metadata": {
    "colab": {
     "base_uri": "https://localhost:8080/",
     "height": 34
    },
    "colab_type": "code",
    "executionInfo": {
     "elapsed": 1597,
     "status": "ok",
     "timestamp": 1600178690173,
     "user": {
      "displayName": "최재홍",
      "photoUrl": "",
      "userId": "11531273785347252451"
     },
     "user_tz": -540
    },
    "id": "ie_7TpPXFMkx",
    "outputId": "d334d702-5d22-4132-874d-42679abbe732"
   },
   "outputs": [
    {
     "name": "stdout",
     "output_type": "stream",
     "text": [
      "[1 2 3 4 5 6 7 8]\n"
     ]
    }
   ],
   "source": [
    "d = np.hstack((a,b))\n",
    "print(d)"
   ]
  },
  {
   "cell_type": "markdown",
   "metadata": {
    "colab_type": "text",
    "id": "KA6r7jGwFSCv"
   },
   "source": [
    "**<h3>형변환**"
   ]
  },
  {
   "cell_type": "code",
   "execution_count": 84,
   "metadata": {
    "colab": {
     "base_uri": "https://localhost:8080/",
     "height": 34
    },
    "colab_type": "code",
    "executionInfo": {
     "elapsed": 1214,
     "status": "ok",
     "timestamp": 1600178711443,
     "user": {
      "displayName": "최재홍",
      "photoUrl": "",
      "userId": "11531273785347252451"
     },
     "user_tz": -540
    },
    "id": "KxlNJuPfFRG8",
    "outputId": "be8c29bf-f8dc-442e-cbd8-2fb95e3b440e"
   },
   "outputs": [
    {
     "name": "stdout",
     "output_type": "stream",
     "text": [
      "[False  True  True]\n"
     ]
    }
   ],
   "source": [
    "x = np.array([-2.0, 1.2, 3.7])\n",
    "y = x > 0\n",
    "print(y)"
   ]
  },
  {
   "cell_type": "code",
   "execution_count": 85,
   "metadata": {
    "colab": {
     "base_uri": "https://localhost:8080/",
     "height": 34
    },
    "colab_type": "code",
    "executionInfo": {
     "elapsed": 1213,
     "status": "ok",
     "timestamp": 1600178719002,
     "user": {
      "displayName": "최재홍",
      "photoUrl": "",
      "userId": "11531273785347252451"
     },
     "user_tz": -540
    },
    "id": "o7i83b0SFWZV",
    "outputId": "8358214e-6b99-42bc-f8d5-89c06b7a9de4"
   },
   "outputs": [
    {
     "name": "stdout",
     "output_type": "stream",
     "text": [
      "[0 1 1]\n"
     ]
    }
   ],
   "source": [
    "y = y.astype(np.int)\n",
    "print(y)"
   ]
  },
  {
   "cell_type": "markdown",
   "metadata": {
    "colab_type": "text",
    "id": "5XAe5oeJFZTN"
   },
   "source": [
    "**<h3>Noise**"
   ]
  },
  {
   "cell_type": "code",
   "execution_count": 86,
   "metadata": {
    "colab": {},
    "colab_type": "code",
    "executionInfo": {
     "elapsed": 1267,
     "status": "ok",
     "timestamp": 1600178742699,
     "user": {
      "displayName": "최재홍",
      "photoUrl": "",
      "userId": "11531273785347252451"
     },
     "user_tz": -540
    },
    "id": "eiivGbv6FYP6"
   },
   "outputs": [],
   "source": [
    "x = np.arange(0, 6, 0.1) # 0에서 6까지 0.1 간격으로 생성\n",
    "y = np.sin(x)"
   ]
  },
  {
   "cell_type": "code",
   "execution_count": 87,
   "metadata": {
    "colab": {
     "base_uri": "https://localhost:8080/",
     "height": 228
    },
    "colab_type": "code",
    "executionInfo": {
     "elapsed": 1279,
     "status": "ok",
     "timestamp": 1600178745341,
     "user": {
      "displayName": "최재홍",
      "photoUrl": "",
      "userId": "11531273785347252451"
     },
     "user_tz": -540
    },
    "id": "eVAhjO7vFeBK",
    "outputId": "95bf0885-5c83-42ff-de22-65f476402946"
   },
   "outputs": [
    {
     "data": {
      "text/plain": [
       "array([ 0.        ,  0.09983342,  0.19866933,  0.29552021,  0.38941834,\n",
       "        0.47942554,  0.56464247,  0.64421769,  0.71735609,  0.78332691,\n",
       "        0.84147098,  0.89120736,  0.93203909,  0.96355819,  0.98544973,\n",
       "        0.99749499,  0.9995736 ,  0.99166481,  0.97384763,  0.94630009,\n",
       "        0.90929743,  0.86320937,  0.8084964 ,  0.74570521,  0.67546318,\n",
       "        0.59847214,  0.51550137,  0.42737988,  0.33498815,  0.23924933,\n",
       "        0.14112001,  0.04158066, -0.05837414, -0.15774569, -0.2555411 ,\n",
       "       -0.35078323, -0.44252044, -0.52983614, -0.61185789, -0.68776616,\n",
       "       -0.7568025 , -0.81827711, -0.87157577, -0.91616594, -0.95160207,\n",
       "       -0.97753012, -0.993691  , -0.99992326, -0.99616461, -0.98245261,\n",
       "       -0.95892427, -0.92581468, -0.88345466, -0.83226744, -0.77276449,\n",
       "       -0.70554033, -0.63126664, -0.55068554, -0.46460218, -0.37387666])"
      ]
     },
     "execution_count": 87,
     "metadata": {},
     "output_type": "execute_result"
    }
   ],
   "source": [
    "y"
   ]
  },
  {
   "cell_type": "code",
   "execution_count": 88,
   "metadata": {
    "colab": {
     "base_uri": "https://localhost:8080/",
     "height": 34
    },
    "colab_type": "code",
    "executionInfo": {
     "elapsed": 1167,
     "status": "ok",
     "timestamp": 1600178754333,
     "user": {
      "displayName": "최재홍",
      "photoUrl": "",
      "userId": "11531273785347252451"
     },
     "user_tz": -540
    },
    "id": "a2mxrhmgFemD",
    "outputId": "ea105683-dc40-4ad2-ab24-025a1c4f4fa0"
   },
   "outputs": [
    {
     "name": "stdout",
     "output_type": "stream",
     "text": [
      "60\n"
     ]
    }
   ],
   "source": [
    "signal_length = y.shape[0]\n",
    "print(signal_length)"
   ]
  },
  {
   "cell_type": "code",
   "execution_count": 89,
   "metadata": {
    "colab": {},
    "colab_type": "code",
    "executionInfo": {
     "elapsed": 1343,
     "status": "ok",
     "timestamp": 1600178762217,
     "user": {
      "displayName": "최재홍",
      "photoUrl": "",
      "userId": "11531273785347252451"
     },
     "user_tz": -540
    },
    "id": "4WV9zR-fFg4e"
   },
   "outputs": [],
   "source": [
    "noise = np.random.normal(0, 1, signal_length)\n",
    "y2 = y + 0.2* noise"
   ]
  },
  {
   "cell_type": "markdown",
   "metadata": {
    "colab_type": "text",
    "id": "AF27cmpFFjwW"
   },
   "source": [
    "* 참고 np.random.normal : random samples from a normal (Gaussian) distrubution"
   ]
  },
  {
   "cell_type": "code",
   "execution_count": 90,
   "metadata": {
    "colab": {
     "base_uri": "https://localhost:8080/",
     "height": 282
    },
    "colab_type": "code",
    "executionInfo": {
     "elapsed": 1331,
     "status": "ok",
     "timestamp": 1600178782384,
     "user": {
      "displayName": "최재홍",
      "photoUrl": "",
      "userId": "11531273785347252451"
     },
     "user_tz": -540
    },
    "id": "chsn_pQ3FixF",
    "outputId": "12c8714c-47e2-4743-a1a7-9804ebdec32b"
   },
   "outputs": [
    {
     "data": {
      "text/plain": [
       "[<matplotlib.lines.Line2D at 0x7f6ea90f5160>]"
      ]
     },
     "execution_count": 90,
     "metadata": {},
     "output_type": "execute_result"
    },
    {
     "data": {
      "image/png": "[encoded data removed]",
      "text/plain": [
       "<Figure size 432x288 with 1 Axes>"
      ]
     },
     "metadata": {
      "needs_background": "light"
     },
     "output_type": "display_data"
    }
   ],
   "source": [
    "plt.plot(x, y)\n",
    "plt.plot(x, y2)\n",
    "#plt.show()"
   ]
  },
  {
   "cell_type": "markdown",
   "metadata": {
    "colab_type": "text",
    "id": "-mUDk9h8Fp0m"
   },
   "source": [
    "**<h3>배열 형태 변환**\n",
    "\n",
    "Create a 3x3 matrix with values ranging from 0 to 8"
   ]
  },
  {
   "cell_type": "code",
   "execution_count": 91,
   "metadata": {
    "colab": {
     "base_uri": "https://localhost:8080/",
     "height": 70
    },
    "colab_type": "code",
    "executionInfo": {
     "elapsed": 1727,
     "status": "ok",
     "timestamp": 1600178818349,
     "user": {
      "displayName": "최재홍",
      "photoUrl": "",
      "userId": "11531273785347252451"
     },
     "user_tz": -540
    },
    "id": "omfMat2eFnsC",
    "outputId": "a703dee8-15ef-4414-a9a4-0faeeeaf7f9e"
   },
   "outputs": [
    {
     "name": "stdout",
     "output_type": "stream",
     "text": [
      "[[0 1 2]\n",
      " [3 4 5]\n",
      " [6 7 8]]\n"
     ]
    }
   ],
   "source": [
    "Z = np.arange(9).reshape(3,3)\n",
    "print(Z)"
   ]
  },
  {
   "cell_type": "code",
   "execution_count": 92,
   "metadata": {
    "colab": {
     "base_uri": "https://localhost:8080/",
     "height": 281
    },
    "colab_type": "code",
    "executionInfo": {
     "elapsed": 1249,
     "status": "ok",
     "timestamp": 1600178822984,
     "user": {
      "displayName": "최재홍",
      "photoUrl": "",
      "userId": "11531273785347252451"
     },
     "user_tz": -540
    },
    "id": "DgQRlg6jFwYD",
    "outputId": "4d5047cb-a3d3-4cd2-c019-2d8078875a14"
   },
   "outputs": [
    {
     "name": "stdout",
     "output_type": "stream",
     "text": [
      "[[[0.60484552 0.73926358]\n",
      "  [0.03918779 0.28280696]\n",
      "  [0.12019656 0.2961402 ]]\n",
      "\n",
      " [[0.11872772 0.31798318]\n",
      "  [0.41426299 0.0641475 ]\n",
      "  [0.69247212 0.56660145]]\n",
      "\n",
      " [[0.26538949 0.52324805]\n",
      "  [0.09394051 0.5759465 ]\n",
      "  [0.9292962  0.31856895]]\n",
      "\n",
      " [[0.66741038 0.13179786]\n",
      "  [0.7163272  0.28940609]\n",
      "  [0.18319136 0.58651293]]]\n"
     ]
    }
   ],
   "source": [
    "A = np.random.rand(4, 3, 2)\n",
    "print(A)"
   ]
  },
  {
   "cell_type": "code",
   "execution_count": 93,
   "metadata": {
    "colab": {
     "base_uri": "https://localhost:8080/",
     "height": 228
    },
    "colab_type": "code",
    "executionInfo": {
     "elapsed": 1472,
     "status": "ok",
     "timestamp": 1600178830651,
     "user": {
      "displayName": "최재홍",
      "photoUrl": "",
      "userId": "11531273785347252451"
     },
     "user_tz": -540
    },
    "id": "p2ZYxXXwFxn5",
    "outputId": "c816cbfb-53e2-49fa-c090-e7e1a653570b"
   },
   "outputs": [
    {
     "name": "stdout",
     "output_type": "stream",
     "text": [
      "[[0.60484552 0.73926358]\n",
      " [0.03918779 0.28280696]\n",
      " [0.12019656 0.2961402 ]\n",
      " [0.11872772 0.31798318]\n",
      " [0.41426299 0.0641475 ]\n",
      " [0.69247212 0.56660145]\n",
      " [0.26538949 0.52324805]\n",
      " [0.09394051 0.5759465 ]\n",
      " [0.9292962  0.31856895]\n",
      " [0.66741038 0.13179786]\n",
      " [0.7163272  0.28940609]\n",
      " [0.18319136 0.58651293]]\n"
     ]
    }
   ],
   "source": [
    "A = A.reshape(12, 2)\n",
    "print(A)"
   ]
  },
  {
   "cell_type": "markdown",
   "metadata": {
    "colab_type": "text",
    "id": "Boy8K8H9F0ua"
   },
   "source": [
    "**<h3>1차원 변환 ravel() vs. reshape() vs. flatten()**\n",
    "\n",
    "* 다차원 배열을 1차원으로 바꾸는 것"
   ]
  },
  {
   "cell_type": "code",
   "execution_count": 94,
   "metadata": {
    "colab": {
     "base_uri": "https://localhost:8080/",
     "height": 34
    },
    "colab_type": "code",
    "executionInfo": {
     "elapsed": 1331,
     "status": "ok",
     "timestamp": 1600178873603,
     "user": {
      "displayName": "최재홍",
      "photoUrl": "",
      "userId": "11531273785347252451"
     },
     "user_tz": -540
    },
    "id": "OLU4-ZXEFzcG",
    "outputId": "9996d176-1167-43a4-cb40-da72e9e876f9"
   },
   "outputs": [
    {
     "name": "stdout",
     "output_type": "stream",
     "text": [
      "(24,)\n"
     ]
    }
   ],
   "source": [
    "B = A.ravel()\n",
    "print(B.shape)"
   ]
  },
  {
   "cell_type": "code",
   "execution_count": 95,
   "metadata": {
    "colab": {
     "base_uri": "https://localhost:8080/",
     "height": 34
    },
    "colab_type": "code",
    "executionInfo": {
     "elapsed": 1351,
     "status": "ok",
     "timestamp": 1600178880899,
     "user": {
      "displayName": "최재홍",
      "photoUrl": "",
      "userId": "11531273785347252451"
     },
     "user_tz": -540
    },
    "id": "odnTBCuJF99v",
    "outputId": "9c570c9d-10ce-426c-c27e-aaa4028a110e"
   },
   "outputs": [
    {
     "name": "stdout",
     "output_type": "stream",
     "text": [
      "(24,)\n"
     ]
    }
   ],
   "source": [
    "C = A.flatten()\n",
    "print(C.shape)"
   ]
  },
  {
   "cell_type": "markdown",
   "metadata": {
    "colab_type": "text",
    "id": "A0J2lKMAGAqn"
   },
   "source": [
    "reshape을 이용한 구현"
   ]
  },
  {
   "cell_type": "code",
   "execution_count": 96,
   "metadata": {
    "colab": {},
    "colab_type": "code",
    "executionInfo": {
     "elapsed": 866,
     "status": "ok",
     "timestamp": 1600178902345,
     "user": {
      "displayName": "최재홍",
      "photoUrl": "",
      "userId": "11531273785347252451"
     },
     "user_tz": -540
    },
    "id": "XduQ9mo0F_tS"
   },
   "outputs": [
    {
     "name": "stdout",
     "output_type": "stream",
     "text": [
      "(8, 3)\n"
     ]
    }
   ],
   "source": [
    "# YOUR CODE HERE\n",
    "\n",
    "D= A.reshape(8,3)\n",
    "print(D.shape)\n",
    "\n",
    "\n",
    "\n",
    "#raise NotImplementedError()"
   ]
  },
  {
   "cell_type": "markdown",
   "metadata": {
    "colab_type": "text",
    "id": "qfLDdqCyGF7m"
   },
   "source": [
    "**<h3>Random**\n",
    "\n",
    "**np.random.choice**"
   ]
  },
  {
   "cell_type": "code",
   "execution_count": 97,
   "metadata": {
    "colab": {},
    "colab_type": "code",
    "executionInfo": {
     "elapsed": 1643,
     "status": "ok",
     "timestamp": 1600178939388,
     "user": {
      "displayName": "최재홍",
      "photoUrl": "",
      "userId": "11531273785347252451"
     },
     "user_tz": -540
    },
    "id": "I18u2zqNGFFZ"
   },
   "outputs": [
    {
     "name": "stdout",
     "output_type": "stream",
     "text": [
      "2\n"
     ]
    }
   ],
   "source": [
    "np.random.seed(0)\n",
    "p = np.array([0.1, 0.0, 0.7, 0.2])\n",
    "index = np.random.choice([0, 1, 2, 3], p = p.ravel())\n",
    "print(index)"
   ]
  },
  {
   "cell_type": "code",
   "execution_count": 98,
   "metadata": {
    "colab": {
     "base_uri": "https://localhost:8080/",
     "height": 193
    },
    "colab_type": "code",
    "executionInfo": {
     "elapsed": 1731,
     "status": "ok",
     "timestamp": 1600178946153,
     "user": {
      "displayName": "최재홍",
      "photoUrl": "",
      "userId": "11531273785347252451"
     },
     "user_tz": -540
    },
    "id": "wOl3bMayGN8l",
    "outputId": "2f4394ab-2ed3-46ad-c3bc-d474ff52108d"
   },
   "outputs": [
    {
     "name": "stdout",
     "output_type": "stream",
     "text": [
      "0 2\n",
      "1 2\n",
      "2 2\n",
      "3 2\n",
      "4 2\n",
      "5 2\n",
      "6 3\n",
      "7 3\n",
      "8 2\n",
      "9 2\n"
     ]
    }
   ],
   "source": [
    "for i in range(10):\n",
    "    index = np.random.choice([0, 1, 2, 3], p = p.ravel())\n",
    "    print(i, index)"
   ]
  },
  {
   "cell_type": "code",
   "execution_count": 99,
   "metadata": {
    "colab": {},
    "colab_type": "code",
    "executionInfo": {
     "elapsed": 1612,
     "status": "ok",
     "timestamp": 1600178955157,
     "user": {
      "displayName": "최재홍",
      "photoUrl": "",
      "userId": "11531273785347252451"
     },
     "user_tz": -540
    },
    "id": "j5iOcP8EGPkg"
   },
   "outputs": [],
   "source": [
    "v =[0,0,0,0]\n",
    "ntest = 1000\n",
    "for i in range(ntest):\n",
    "    idx = np.random.choice([0, 1, 2, 3], p = p.ravel())\n",
    "    v[idx] += 1"
   ]
  },
  {
   "cell_type": "markdown",
   "metadata": {
    "colab_type": "text",
    "id": "nSqRjSMcGSwb"
   },
   "source": [
    "**np.random.permutation**"
   ]
  },
  {
   "cell_type": "code",
   "execution_count": 100,
   "metadata": {
    "colab": {
     "base_uri": "https://localhost:8080/",
     "height": 34
    },
    "colab_type": "code",
    "executionInfo": {
     "elapsed": 1752,
     "status": "ok",
     "timestamp": 1600178973900,
     "user": {
      "displayName": "최재홍",
      "photoUrl": "",
      "userId": "11531273785347252451"
     },
     "user_tz": -540
    },
    "id": "Abad7bopGRzX",
    "outputId": "3bd604f4-f397-4ab5-c463-cf60a84c3db9"
   },
   "outputs": [
    {
     "name": "stdout",
     "output_type": "stream",
     "text": [
      "[2 3 4 1 0]\n"
     ]
    }
   ],
   "source": [
    "m1 = np.random.permutation(5)\n",
    "print(m1)"
   ]
  },
  {
   "cell_type": "markdown",
   "metadata": {
    "colab_type": "text",
    "id": "9ua2VRzZGXRU"
   },
   "source": [
    "* array shuffle하기 (1차원)"
   ]
  },
  {
   "cell_type": "code",
   "execution_count": 101,
   "metadata": {
    "colab": {},
    "colab_type": "code",
    "executionInfo": {
     "elapsed": 1600,
     "status": "ok",
     "timestamp": 1600178990419,
     "user": {
      "displayName": "최재홍",
      "photoUrl": "",
      "userId": "11531273785347252451"
     },
     "user_tz": -540
    },
    "id": "rdIiWv7aGWVB"
   },
   "outputs": [],
   "source": [
    "X = np.array([10,20,30,40,50])\n",
    "shuffled_X = X[m1]"
   ]
  },
  {
   "cell_type": "code",
   "execution_count": 102,
   "metadata": {
    "colab": {
     "base_uri": "https://localhost:8080/",
     "height": 52
    },
    "colab_type": "code",
    "executionInfo": {
     "elapsed": 1666,
     "status": "ok",
     "timestamp": 1600178998313,
     "user": {
      "displayName": "최재홍",
      "photoUrl": "",
      "userId": "11531273785347252451"
     },
     "user_tz": -540
    },
    "id": "TR7JgZYPGaaW",
    "outputId": "335259d3-c146-427f-b599-88b7a38ab4d5"
   },
   "outputs": [
    {
     "name": "stdout",
     "output_type": "stream",
     "text": [
      "[10 20 30 40 50]\n",
      "[30 40 50 20 10]\n"
     ]
    }
   ],
   "source": [
    "print(X)\n",
    "print(shuffled_X)"
   ]
  },
  {
   "cell_type": "markdown",
   "metadata": {
    "colab_type": "text",
    "id": "eoec_11IGdcv"
   },
   "source": [
    "* array shuffle하기 (2차원)"
   ]
  },
  {
   "cell_type": "code",
   "execution_count": 103,
   "metadata": {
    "colab": {},
    "colab_type": "code",
    "executionInfo": {
     "elapsed": 1317,
     "status": "ok",
     "timestamp": 1600179017374,
     "user": {
      "displayName": "최재홍",
      "photoUrl": "",
      "userId": "11531273785347252451"
     },
     "user_tz": -540
    },
    "id": "VINe7soCGcTm"
   },
   "outputs": [],
   "source": [
    "x1 = [2, 4, 8, 10, 20]\n",
    "x2 = [0.2,  0.4, -0.8, 1.0, -2.0]\n",
    "X = np.transpose(np.vstack((x1, x2)))"
   ]
  },
  {
   "cell_type": "code",
   "execution_count": 104,
   "metadata": {
    "colab": {
     "base_uri": "https://localhost:8080/",
     "height": 122
    },
    "colab_type": "code",
    "executionInfo": {
     "elapsed": 1742,
     "status": "ok",
     "timestamp": 1600179024360,
     "user": {
      "displayName": "최재홍",
      "photoUrl": "",
      "userId": "11531273785347252451"
     },
     "user_tz": -540
    },
    "id": "jxhoeMooGhD1",
    "outputId": "47d7d67a-759e-4c3f-f27e-56201ff51e55"
   },
   "outputs": [
    {
     "name": "stdout",
     "output_type": "stream",
     "text": [
      "[[ 2.   0.2]\n",
      " [ 4.   0.4]\n",
      " [ 8.  -0.8]\n",
      " [10.   1. ]\n",
      " [20.  -2. ]]\n",
      "(5, 2)\n"
     ]
    }
   ],
   "source": [
    "print(X)\n",
    "print(X.shape)"
   ]
  },
  {
   "cell_type": "code",
   "execution_count": 105,
   "metadata": {
    "colab": {},
    "colab_type": "code",
    "executionInfo": {
     "elapsed": 2481,
     "status": "ok",
     "timestamp": 1600179032180,
     "user": {
      "displayName": "최재홍",
      "photoUrl": "",
      "userId": "11531273785347252451"
     },
     "user_tz": -540
    },
    "id": "LpsuFjggGioq"
   },
   "outputs": [],
   "source": [
    "permutation = np.random.permutation(5)"
   ]
  },
  {
   "cell_type": "code",
   "execution_count": 106,
   "metadata": {
    "colab": {},
    "colab_type": "code",
    "executionInfo": {
     "elapsed": 1395,
     "status": "ok",
     "timestamp": 1600179035831,
     "user": {
      "displayName": "최재홍",
      "photoUrl": "",
      "userId": "11531273785347252451"
     },
     "user_tz": -540
    },
    "id": "KBierA4TGkY9"
   },
   "outputs": [],
   "source": [
    "X_shuffle=  X[permutation]"
   ]
  },
  {
   "cell_type": "code",
   "execution_count": 107,
   "metadata": {
    "colab": {
     "base_uri": "https://localhost:8080/",
     "height": 105
    },
    "colab_type": "code",
    "executionInfo": {
     "elapsed": 1654,
     "status": "ok",
     "timestamp": 1600179041367,
     "user": {
      "displayName": "최재홍",
      "photoUrl": "",
      "userId": "11531273785347252451"
     },
     "user_tz": -540
    },
    "id": "h95mZmd4GljK",
    "outputId": "b064438a-954c-40db-c198-26cbd44fa69e"
   },
   "outputs": [
    {
     "name": "stdout",
     "output_type": "stream",
     "text": [
      "[[20.  -2. ]\n",
      " [ 8.  -0.8]\n",
      " [ 4.   0.4]\n",
      " [10.   1. ]\n",
      " [ 2.   0.2]]\n"
     ]
    }
   ],
   "source": [
    "print(X_shuffle)"
   ]
  },
  {
   "cell_type": "code",
   "execution_count": null,
   "metadata": {
    "colab": {},
    "colab_type": "code",
    "id": "pDagI34rGm1d"
   },
   "outputs": [],
   "source": []
  }
 ],
 "metadata": {
  "colab": {
   "authorship_tag": "ABX9TyMdNDha2itRRmtbc+dOM6Lj",
   "collapsed_sections": [],
   "name": "03_HelloNumpy.ipynb",
   "provenance": []
  },
  "kernelspec": {
   "display_name": "Python 3",
   "language": "python",
   "name": "python3"
  },
  "language_info": {
   "codemirror_mode": {
    "name": "ipython",
    "version": 3
   },
   "file_extension": ".py",
   "mimetype": "text/x-python",
   "name": "python",
   "nbconvert_exporter": "python",
   "pygments_lexer": "ipython3",
   "version": "3.6.9"
  }
 },
 "nbformat": 4,
 "nbformat_minor": 1
}
